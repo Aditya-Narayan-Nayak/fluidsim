{
 "cells": [
  {
   "cell_type": "code",
   "execution_count": 26,
   "metadata": {
    "collapsed": false
   },
   "outputs": [],
   "source": [
    "from __future__ import print_function\n",
    "%matplotlib inline\n",
    "import fluiddyn as fld"
   ]
  },
  {
   "cell_type": "raw",
   "metadata": {},
   "source": [
    ".. _tutosimuluser:"
   ]
  },
  {
   "cell_type": "markdown",
   "metadata": {},
   "source": [
    "# Tutorial: running a simulation (user perspective)"
   ]
  },
  {
   "cell_type": "markdown",
   "metadata": {},
   "source": [
    "In this tutorial, I'm going to show how to run a simple simulation with a solver already written that solves the 2 dimensional Navier-Stokes equations. I'm also going to present some useful concepts and objects used in the simulation part of FluidDyn."
   ]
  },
  {
   "cell_type": "markdown",
   "metadata": {},
   "source": [
    "## Importing a solver"
   ]
  },
  {
   "cell_type": "raw",
   "metadata": {},
   "source": [
    "The first thing to do is to import a \"solver\" module. Any solver module has to provide a class called \"Simul\" and an object called \"info_solver\", which is an instance of the class :class:`fluiddyn.simul.base.info_solver_params.InfoSolverPseudoSpectral`. The solver module that we are going to use can be imported like this:"
   ]
  },
  {
   "cell_type": "code",
   "execution_count": 27,
   "metadata": {
    "collapsed": false
   },
   "outputs": [
    {
     "data": {
      "text/plain": [
       "'/home/pierre/Dev/fluidsim/fluidsim/solvers/ns2d/solver.py'"
      ]
     },
     "execution_count": 27,
     "metadata": {},
     "output_type": "execute_result"
    }
   ],
   "source": [
    "from fluidsim.solvers.ns2d import solver\n",
    "solver.__file__"
   ]
  },
  {
   "cell_type": "markdown",
   "metadata": {},
   "source": [
    "There is also another quite convenient way to import a solver from a string, here \"NS2D\":"
   ]
  },
  {
   "cell_type": "code",
   "execution_count": 28,
   "metadata": {
    "collapsed": false
   },
   "outputs": [
    {
     "data": {
      "text/plain": [
       "'/home/pierre/Dev/fluidsim/fluidsim/solvers/ns2d/solver.py'"
      ]
     },
     "execution_count": 28,
     "metadata": {},
     "output_type": "execute_result"
    }
   ],
   "source": [
    "solver = fld.simul.import_module_solver_from_key('NS2D')\n",
    "solver.__file__"
   ]
  },
  {
   "cell_type": "markdown",
   "metadata": {},
   "source": [
    "## Create an instance of the class Parameters"
   ]
  },
  {
   "cell_type": "markdown",
   "metadata": {},
   "source": [
    "The next step is to create an object `params` from the information contained in the module `solver`:"
   ]
  },
  {
   "cell_type": "code",
   "execution_count": 29,
   "metadata": {
    "collapsed": false
   },
   "outputs": [],
   "source": [
    "params = solver.Simul.create_default_params()"
   ]
  },
  {
   "cell_type": "raw",
   "metadata": {},
   "source": [
    "The object ``params`` is an instance of the class :class:`fluiddyn.simul.base.info_solver_params.Parameters` (which inherit of :class:`fluiddyn.util.containerxml.ContainerXML`). It is usually a quite complex object containing many attributes. In this case, it contains parameters (if you don't understand the next command, have a look at this section of the official Python tutorial on `the list comprehension <https://docs.python.org/2/tutorial/datastructures.html#list-comprehensions>`_):"
   ]
  },
  {
   "cell_type": "code",
   "execution_count": 30,
   "metadata": {
    "collapsed": false
   },
   "outputs": [
    {
     "data": {
      "text/plain": [
       "['FORCING',\n",
       " 'NEW_DIR_RESULTS',\n",
       " 'ONLY_COARSE_OPER',\n",
       " 'beta',\n",
       " 'forcing',\n",
       " 'init_fields',\n",
       " 'nu_2',\n",
       " 'nu_4',\n",
       " 'nu_8',\n",
       " 'nu_m4',\n",
       " 'oper',\n",
       " 'output',\n",
       " 'short_name_type_run',\n",
       " 'time_stepping']"
      ]
     },
     "execution_count": 30,
     "metadata": {},
     "output_type": "execute_result"
    }
   ],
   "source": [
    "[attr for attr in dir(params) if not attr.startswith(('_', 'set_', 'xml_'))]"
   ]
  },
  {
   "cell_type": "markdown",
   "metadata": {},
   "source": [
    "and some useful functions (whose names all start with 'set_' or 'xml_'): "
   ]
  },
  {
   "cell_type": "code",
   "execution_count": 31,
   "metadata": {
    "collapsed": false
   },
   "outputs": [
    {
     "data": {
      "text/plain": [
       "['set_as_child',\n",
       " 'set_attrib',\n",
       " 'set_attribs',\n",
       " 'set_child',\n",
       " 'xml_attrib',\n",
       " 'xml_print',\n",
       " 'xml_produce_text',\n",
       " 'xml_save',\n",
       " 'xml_tag',\n",
       " 'xml_tag_children',\n",
       " 'xml_to_hdf5']"
      ]
     },
     "execution_count": 31,
     "metadata": {},
     "output_type": "execute_result"
    }
   ],
   "source": [
    "[attr for attr in dir(params) if attr.startswith(('set_', 'xml_'))]"
   ]
  },
  {
   "cell_type": "raw",
   "metadata": {},
   "source": [
    "Some of the attributes of ``params`` are simple Python objects and others can be other :class:`fluiddyn.simul.base.info_solver_params.Parameters`:"
   ]
  },
  {
   "cell_type": "code",
   "execution_count": 32,
   "metadata": {
    "collapsed": false
   },
   "outputs": [
    {
     "name": "stdout",
     "output_type": "stream",
     "text": [
      "<type 'float'>\n",
      "<class 'fluidsim.base.params.Parameters'>\n"
     ]
    }
   ],
   "source": [
    "print(type(params.nu_2))\n",
    "print(type(params.output))"
   ]
  },
  {
   "cell_type": "code",
   "execution_count": 33,
   "metadata": {
    "collapsed": false
   },
   "outputs": [
    {
     "data": {
      "text/plain": [
       "['HAS_TO_SAVE',\n",
       " 'ONLINE_PLOT_OK',\n",
       " 'increments',\n",
       " 'period_show_plot',\n",
       " 'periods_plot',\n",
       " 'periods_print',\n",
       " 'periods_save',\n",
       " 'phys_fields',\n",
       " 'spatial_means',\n",
       " 'spect_energy_budg',\n",
       " 'spectra']"
      ]
     },
     "execution_count": 33,
     "metadata": {},
     "output_type": "execute_result"
    }
   ],
   "source": [
    "[attr for attr in dir(params.output) if not attr.startswith(('_', 'set_', 'xml_'))]"
   ]
  },
  {
   "cell_type": "markdown",
   "metadata": {},
   "source": [
    "Therefore, the object `params` contains a tree of parameters. This tree can be represented as xml code:"
   ]
  },
  {
   "cell_type": "code",
   "execution_count": 34,
   "metadata": {
    "collapsed": false
   },
   "outputs": [
    {
     "name": "stdout",
     "output_type": "stream",
     "text": [
      "<fluidsim.base.params.Parameters object at 0x7f234e2a8410>\n",
      "\n",
      "<params nu_2=\"0.0\" ONLY_COARSE_OPER=\"False\" short_name_type_run=\"\"\n",
      "        FORCING=\"False\" NEW_DIR_RESULTS=\"True\" nu_m4=\"0.0\" nu_8=\"0.0\" nu_4=\"0.0\"\n",
      "        beta=\"0.0\">\n",
      "  <oper ny=\"48\" nx=\"48\" type_fft=\"FFTWCY\" coef_dealiasing=\"0.6666666666666666\"\n",
      "        TRANSPOSED_OK=\"True\" Lx=\"8\" Ly=\"8\"/>  \n",
      "\n",
      "  <init_fields type_flow_init=\"NOISE\" path_file=\"\" max_velo_noise=\"1.0\"\n",
      "               lambda_noise=\"1.0\"/>  \n",
      "\n",
      "  <time_stepping type_time_scheme=\"RK4\" it_end=\"10\" USE_CFL=\"True\" deltat0=\"0.2\"\n",
      "                 USE_T_END=\"True\" t_end=\"10.0\"/>  \n",
      "\n",
      "  <output ONLINE_PLOT_OK=\"True\" period_show_plot=\"1\" HAS_TO_SAVE=\"True\">\n",
      "    <periods_save increments=\"0\" phys_fields=\"0\" spectra=\"0\" spatial_means=\"0\"\n",
      "                  spect_energy_budg=\"0\"/>  \n",
      "\n",
      "    <periods_print print_stdout=\"1.0\"/>  \n",
      "\n",
      "    <periods_plot phys_fields=\"0\"/>  \n",
      "\n",
      "    <increments HAS_TO_PLOT_SAVED=\"False\"/>  \n",
      "\n",
      "    <phys_fields field_to_plot=\"rot\"/>  \n",
      "\n",
      "    <spectra HAS_TO_PLOT_SAVED=\"False\"/>  \n",
      "\n",
      "    <spatial_means HAS_TO_PLOT_SAVED=\"False\"/>  \n",
      "\n",
      "    <spect_energy_budg HAS_TO_PLOT_SAVED=\"False\"/>  \n",
      "\n",
      "  </output>\n",
      "\n",
      "  <forcing available_types=\"['Random', 'Proportional']\" type=\"Random\"\n",
      "           forcing_rate=\"1\" key_forced=\"rot_fft\" nkmax_forcing=\"5\"\n",
      "           nkmin_forcing=\"4\">\n",
      "    <random type_normalize=\"2nd_degree_eq\"/>  \n",
      "\n",
      "  </forcing>\n",
      "\n",
      "</params>\n",
      "\n"
     ]
    }
   ],
   "source": [
    "print(params)"
   ]
  },
  {
   "cell_type": "markdown",
   "metadata": {},
   "source": [
    "## Set the parameters for your simulation"
   ]
  },
  {
   "cell_type": "markdown",
   "metadata": {},
   "source": [
    "The user can change any parameters"
   ]
  },
  {
   "cell_type": "code",
   "execution_count": 35,
   "metadata": {
    "collapsed": false
   },
   "outputs": [
    {
     "data": {
      "text/plain": [
       "'NOISE'"
      ]
     },
     "execution_count": 35,
     "metadata": {},
     "output_type": "execute_result"
    }
   ],
   "source": [
    "params.nu_2 = 1.\n",
    "params.FORCING = False\n",
    "params.init_fields.type_flow_init"
   ]
  },
  {
   "cell_type": "raw",
   "metadata": {},
   "source": [
    "but she/he can not create accidentally a parameter which is actually not used:"
   ]
  },
  {
   "cell_type": "code",
   "execution_count": 36,
   "metadata": {
    "collapsed": false
   },
   "outputs": [
    {
     "name": "stdout",
     "output_type": "stream",
     "text": [
      "KeyError: 'this_param_does_not_exit is not a proper key.'\n"
     ]
    }
   ],
   "source": [
    "try:\n",
    "    params.this_param_does_not_exit = 10\n",
    "except KeyError as e:\n",
    "    print('KeyError:', e)"
   ]
  },
  {
   "cell_type": "markdown",
   "metadata": {},
   "source": [
    "This behaviour is much safer than using a text file or a python file for the parameters.   "
   ]
  },
  {
   "cell_type": "markdown",
   "metadata": {},
   "source": [
    "## Instantiate a simulation object"
   ]
  },
  {
   "cell_type": "markdown",
   "metadata": {},
   "source": [
    "The next step is to create a simulation object (instance of the class solver.Simul) with the parameters in `params`:"
   ]
  },
  {
   "cell_type": "code",
   "execution_count": 37,
   "metadata": {
    "collapsed": false
   },
   "outputs": [
    {
     "name": "stdout",
     "output_type": "stream",
     "text": [
      "Init. operator\n",
      "*************************************\n",
      "Program FluidDyn\n",
      "\n",
      "solver NS2D, RK4 and sequenciel,\n",
      "nx =     48 ; ny =     48\n",
      "Lx = 8. ; Ly = 8.\n",
      "path_run =\n",
      "/home/pierre/Sim_data/NS2D_L=8.x8._48x48_2015-04-03_17-56-07\n",
      "type_flow_init = NOISE\n",
      "Initialization outputs:\n",
      "<class 'fluidsim.base.output.increments.Increments'> increments\n",
      "<class 'fluidsim.base.output.phys_fields.PhysFieldsBase'> phys_fields\n",
      "<class 'fluidsim.solvers.ns2d.output.spectra.SpectraNS2D'> spectra\n",
      "<class 'fluidsim.solvers.ns2d.output.spatial_means.SpatialMeansNS2D'> spatial_means\n",
      "<class 'fluidsim.solvers.ns2d.output.spect_energy_budget.SpectralEnergyBudgetNS2D'> spect_energy_budg\n",
      "\n",
      "Memory usage at the end of init. (equiv. seq.): 82.69921875 Mo\n",
      "Size of state_fft (equiv. seq.): 0.0192 Mo\n"
     ]
    }
   ],
   "source": [
    "sim = solver.Simul(params)"
   ]
  },
  {
   "cell_type": "markdown",
   "metadata": {},
   "source": [
    "which initializes everything needed to run the simulation. The object `sim` has few attributes:"
   ]
  },
  {
   "cell_type": "code",
   "execution_count": 38,
   "metadata": {
    "collapsed": false
   },
   "outputs": [
    {
     "data": {
      "text/plain": [
       "['InfoSolver',\n",
       " 'compute_freq_diss',\n",
       " 'create_default_params',\n",
       " 'info',\n",
       " 'info_solver',\n",
       " 'init_fields',\n",
       " 'name_run',\n",
       " 'oper',\n",
       " 'output',\n",
       " 'params',\n",
       " 'state',\n",
       " 'tendencies_nonlin',\n",
       " 'time_stepping']"
      ]
     },
     "execution_count": 38,
     "metadata": {},
     "output_type": "execute_result"
    }
   ],
   "source": [
    "[attr for attr in dir(sim) if not attr.startswith('_')]"
   ]
  },
  {
   "cell_type": "raw",
   "metadata": {},
   "source": [
    "The object ``sim.info`` is a :class:`fluiddyn.util.containerxml.ContainerXML` which contains all the information on the solver (in ``sim.info.solver``) and on specific parameters for this simulation (in ``sim.info.solver``, which is actually the same object as ``sim.params``):"
   ]
  },
  {
   "cell_type": "code",
   "execution_count": 39,
   "metadata": {
    "collapsed": false
   },
   "outputs": [
    {
     "name": "stdout",
     "output_type": "stream",
     "text": [
      "<class 'fluiddyn.util.containerxml.ContainerXML'>\n",
      "['params', 'solver']\n"
     ]
    }
   ],
   "source": [
    "print(sim.info.__class__)\n",
    "print([attr for attr in dir(sim.info) if not attr.startswith(('_', 'set_', 'xml_'))])"
   ]
  },
  {
   "cell_type": "code",
   "execution_count": 40,
   "metadata": {
    "collapsed": false
   },
   "outputs": [
    {
     "name": "stdout",
     "output_type": "stream",
     "text": [
      "<fluidsim.solvers.ns2d.solver.InfoSolverNS2D object at 0x7f234e304850>\n",
      "\n",
      "<solver class_name=\"Simul\" module_name=\"fluidsim.solvers.ns2d.solver\"\n",
      "        short_name=\"NS2D\">\n",
      "  <classes>\n",
      "    <InitFields class_name=\"InitFieldsNS2D\"\n",
      "                module_name=\"fluidsim.solvers.ns2d.init_fields\"/>  \n",
      "\n",
      "    <Forcing class_name=\"ForcingNS2D\"\n",
      "             module_name=\"fluidsim.solvers.ns2d.forcing\">\n",
      "      <classes>\n",
      "        <Random class_name=\"Random\"\n",
      "                module_name=\"fluidsim.solvers.ns2d.forcing\"/>  \n",
      "\n",
      "        <Proportional class_name=\"Proportional\"\n",
      "                      module_name=\"fluidsim.solvers.ns2d.forcing\"/>  \n",
      "\n",
      "      </classes>\n",
      "\n",
      "    </Forcing>\n",
      "\n",
      "    <Output class_name=\"Output\" module_name=\"fluidsim.solvers.ns2d.output\">\n",
      "      <classes>\n",
      "        <PrintStdOut class_name=\"PrintStdOutNS2D\"\n",
      "                     module_name=\"fluidsim.solvers.ns2d.output.print_stdout\"/>  \n",
      "\n",
      "        <PhysFields class_name=\"PhysFieldsBase\"\n",
      "                    module_name=\"fluidsim.base.output.phys_fields\"/>  \n",
      "\n",
      "        <Spectra class_name=\"SpectraNS2D\"\n",
      "                 module_name=\"fluidsim.solvers.ns2d.output.spectra\"/>  \n",
      "\n",
      "        <spatial_means class_name=\"SpatialMeansNS2D\"\n",
      "                       module_name=\"fluidsim.solvers.ns2d.output.spatial_means\"/>  \n",
      "\n",
      "        <spect_energy_budg class_name=\"SpectralEnergyBudgetNS2D\"\n",
      "                           module_name=\"fluidsim.solvers.ns2d.output.spect_energy_budget\"/>  \n",
      "\n",
      "        <increments class_name=\"Increments\"\n",
      "                    module_name=\"fluidsim.base.output.increments\"/>  \n",
      "\n",
      "      </classes>\n",
      "\n",
      "    </Output>\n",
      "\n",
      "    <State class_name=\"StateNS2D\" module_name=\"fluidsim.solvers.ns2d.state\"\n",
      "           keys_phys_needed=\"['rot']\" keys_computable=\"[]\"\n",
      "           keys_state_fft=\"['rot_fft']\" keys_state_phys=\"['ux', 'uy', 'rot']\"\n",
      "           keys_linear_eigenmodes=\"['rot_fft']\"/>  \n",
      "\n",
      "    <TimeStepping class_name=\"TimeSteppingPseudoSpectral\"\n",
      "                  module_name=\"fluidsim.base.time_stepping.pseudo_spect_cy\"/>  \n",
      "\n",
      "    <Operators class_name=\"OperatorsPseudoSpectral2D\"\n",
      "               module_name=\"fluidsim.operators.operators\"/>  \n",
      "\n",
      "  </classes>\n",
      "\n",
      "</solver>\n",
      "\n"
     ]
    }
   ],
   "source": [
    "print(sim.info.solver)"
   ]
  },
  {
   "cell_type": "markdown",
   "metadata": {},
   "source": [
    "## Run the simulation"
   ]
  },
  {
   "cell_type": "markdown",
   "metadata": {},
   "source": [
    "We are ready to launch the simulation!"
   ]
  },
  {
   "cell_type": "code",
   "execution_count": 41,
   "metadata": {
    "collapsed": false
   },
   "outputs": [
    {
     "name": "stdout",
     "output_type": "stream",
     "text": [
      "*************************************\n",
      "Beginning of the computation\n",
      "save state_phys in file state_phys_t=000.000.hd5\n",
      "    compute until t =         10\n",
      "it =      1 ; t      =     0.097 ; deltat       =     0.1499\n",
      "              energy = 4.033e-02 ; Delta energy = -5.126e-02\n",
      "              estimated remaining duration =      0 s\n",
      "it =      7 ; t      =     1.247 ; deltat       =        0.2\n",
      "              energy = 1.938e-03 ; Delta energy = -3.840e-02\n",
      "              estimated remaining duration =      0 s\n",
      "it =     13 ; t      =     2.447 ; deltat       =        0.2\n",
      "              energy = 3.661e-04 ; Delta energy = -1.572e-03\n",
      "              estimated remaining duration =      0 s\n",
      "it =     18 ; t      =     3.447 ; deltat       =        0.2\n",
      "              energy = 1.024e-04 ; Delta energy = -2.637e-04\n",
      "              estimated remaining duration =      0 s\n",
      "it =     23 ; t      =     4.447 ; deltat       =        0.2\n",
      "              energy = 2.945e-05 ; Delta energy = -7.291e-05\n",
      "              estimated remaining duration =      0 s\n",
      "it =     28 ; t      =     5.447 ; deltat       =        0.2\n",
      "              energy = 8.545e-06 ; Delta energy = -2.090e-05\n",
      "              estimated remaining duration =      0 s\n",
      "it =     33 ; t      =     6.447 ; deltat       =        0.2\n",
      "              energy = 2.486e-06 ; Delta energy = -6.059e-06\n",
      "              estimated remaining duration =      0 s\n",
      "it =     38 ; t      =     7.447 ; deltat       =        0.2\n",
      "              energy = 7.237e-07 ; Delta energy = -1.762e-06\n",
      "              estimated remaining duration =      0 s\n",
      "it =     44 ; t      =     8.647 ; deltat       =        0.2\n",
      "              energy = 1.646e-07 ; Delta energy = -5.590e-07\n",
      "              estimated remaining duration =      0 s\n",
      "it =     50 ; t      =     9.847 ; deltat       =        0.2\n",
      "              energy = 3.746e-08 ; Delta energy = -1.272e-07\n",
      "              estimated remaining duration =      0 s\n",
      "Computation completed in 0.176845 s\n",
      "path_run =\n",
      "/home/pierre/Sim_data/NS2D_L=8.x8._48x48_2015-04-03_17-56-07\n",
      "save state_phys in file state_phys_t=010.047.hd5\n"
     ]
    }
   ],
   "source": [
    "sim.time_stepping.start()"
   ]
  },
  {
   "cell_type": "code",
   "execution_count": null,
   "metadata": {
    "collapsed": true
   },
   "outputs": [],
   "source": []
  }
 ],
 "metadata": {
  "kernelspec": {
   "display_name": "Python 2",
   "language": "python",
   "name": "python2"
  },
  "language_info": {
   "codemirror_mode": {
    "name": "ipython",
    "version": 2
   },
   "file_extension": ".py",
   "mimetype": "text/x-python",
   "name": "python",
   "nbconvert_exporter": "python",
   "pygments_lexer": "ipython2",
   "version": "2.7.8"
  }
 },
 "nbformat": 4,
 "nbformat_minor": 0
}
