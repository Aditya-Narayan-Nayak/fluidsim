{
 "cells": [
  {
   "cell_type": "code",
   "execution_count": 19,
   "metadata": {
    "collapsed": false
   },
   "outputs": [],
   "source": [
    "from __future__ import print_function\n",
    "%matplotlib inline\n",
    "import fluiddyn as fld"
   ]
  },
  {
   "cell_type": "raw",
   "metadata": {},
   "source": [
    ".. _tutosimuluser:"
   ]
  },
  {
   "cell_type": "markdown",
   "metadata": {},
   "source": [
    "# Tutorial: running a simulation (user perspective)"
   ]
  },
  {
   "cell_type": "markdown",
   "metadata": {},
   "source": [
    "In this tutorial, I'm going to show how to run a simple simulation with a solver already written that solves the 2 dimensional Navier-Stokes equations. I'm also going to present some useful concepts and objects used in the simulation part of FluidDyn."
   ]
  },
  {
   "cell_type": "markdown",
   "metadata": {},
   "source": [
    "## Importing a solver"
   ]
  },
  {
   "cell_type": "raw",
   "metadata": {},
   "source": [
    "The first thing to do is to import a \"solver\" module. Any solver module has to provide a class called \"Simul\" and an object called \"info_solver\", which is an instance of the class :class:`fluiddyn.simul.base.info_solver_params.InfoSolverPseudoSpectral`. The solver module that we are going to use can be imported like this:"
   ]
  },
  {
   "cell_type": "code",
   "execution_count": 20,
   "metadata": {
    "collapsed": false
   },
   "outputs": [
    {
     "data": {
      "text/plain": [
       "'/home/pierre/Dev/fluidsim/fluidsim/solvers/ns2d/solver.pyc'"
      ]
     },
     "execution_count": 20,
     "metadata": {},
     "output_type": "execute_result"
    }
   ],
   "source": [
    "from fluidsim.solvers.ns2d import solver\n",
    "solver.__file__"
   ]
  },
  {
   "cell_type": "markdown",
   "metadata": {},
   "source": [
    "There is also another quite convenient way to import a solver from a string, here \"NS2D\":"
   ]
  },
  {
   "cell_type": "code",
   "execution_count": 21,
   "metadata": {
    "collapsed": false
   },
   "outputs": [
    {
     "data": {
      "text/plain": [
       "'/home/pierre/Dev/fluidsim/fluidsim/solvers/ns2d/solver.pyc'"
      ]
     },
     "execution_count": 21,
     "metadata": {},
     "output_type": "execute_result"
    }
   ],
   "source": [
    "solver = fld.simul.import_module_solver_from_key('NS2D')\n",
    "solver.__file__"
   ]
  },
  {
   "cell_type": "markdown",
   "metadata": {},
   "source": [
    "## Create an instance of the class Parameters"
   ]
  },
  {
   "cell_type": "markdown",
   "metadata": {},
   "source": [
    "The next step is to create an object `params` from the information contained in the module `solver`:"
   ]
  },
  {
   "cell_type": "code",
   "execution_count": 22,
   "metadata": {
    "collapsed": false
   },
   "outputs": [],
   "source": [
    "params = solver.Simul.create_default_params()"
   ]
  },
  {
   "cell_type": "raw",
   "metadata": {},
   "source": [
    "The object ``params`` is an instance of the class :class:`fluiddyn.simul.base.info_solver_params.Parameters` (which inherit of :class:`fluiddyn.util.containerxml.ContainerXML`). It is usually a quite complex object containing many attributes. In this case, it contains parameters (if you don't understand the next command, have a look at this section of the official Python tutorial on `the list comprehension <https://docs.python.org/2/tutorial/datastructures.html#list-comprehensions>`_):"
   ]
  },
  {
   "cell_type": "code",
   "execution_count": 23,
   "metadata": {
    "collapsed": false
   },
   "outputs": [
    {
     "data": {
      "text/plain": [
       "['FORCING',\n",
       " 'NEW_DIR_RESULTS',\n",
       " 'ONLY_COARSE_OPER',\n",
       " 'beta',\n",
       " 'forcing',\n",
       " 'init_fields',\n",
       " 'nu_2',\n",
       " 'nu_4',\n",
       " 'nu_8',\n",
       " 'nu_m4',\n",
       " 'oper',\n",
       " 'output',\n",
       " 'short_name_type_run',\n",
       " 'time_stepping']"
      ]
     },
     "execution_count": 23,
     "metadata": {},
     "output_type": "execute_result"
    }
   ],
   "source": [
    "[attr for attr in dir(params) if not attr.startswith('_')]"
   ]
  },
  {
   "cell_type": "raw",
   "metadata": {},
   "source": [
    "and some useful functions (whose names all start with ``_`` in order to be hidden in Ipython): "
   ]
  },
  {
   "cell_type": "code",
   "execution_count": 24,
   "metadata": {
    "collapsed": false
   },
   "outputs": [
    {
     "data": {
      "text/plain": [
       "['_attribs',\n",
       " '_load_from_elemxml',\n",
       " '_load_from_hdf5_file',\n",
       " '_load_from_hdf5_objet',\n",
       " '_load_from_xml_file',\n",
       " '_make_dict',\n",
       " '_make_element_xml',\n",
       " '_make_xml_text',\n",
       " '_print_as_xml',\n",
       " '_save_as_hdf5',\n",
       " '_save_as_xml',\n",
       " '_set_as_child',\n",
       " '_set_attrib',\n",
       " '_set_attribs',\n",
       " '_set_child',\n",
       " '_set_internal_attr',\n",
       " '_tag',\n",
       " '_tag_children']"
      ]
     },
     "execution_count": 24,
     "metadata": {},
     "output_type": "execute_result"
    }
   ],
   "source": [
    "[attr for attr in dir(params) if attr.startswith('_') and not attr.startswith('__')]"
   ]
  },
  {
   "cell_type": "raw",
   "metadata": {},
   "source": [
    "Some of the attributes of ``params`` are simple Python objects and others can be other :class:`fluiddyn.simul.base.info_solver_params.Parameters`:"
   ]
  },
  {
   "cell_type": "code",
   "execution_count": 25,
   "metadata": {
    "collapsed": false
   },
   "outputs": [
    {
     "name": "stdout",
     "output_type": "stream",
     "text": [
      "<type 'float'>\n",
      "<class 'fluidsim.base.params.Parameters'>\n"
     ]
    }
   ],
   "source": [
    "print(type(params.nu_2))\n",
    "print(type(params.output))"
   ]
  },
  {
   "cell_type": "code",
   "execution_count": 26,
   "metadata": {
    "collapsed": false
   },
   "outputs": [
    {
     "data": {
      "text/plain": [
       "['HAS_TO_SAVE',\n",
       " 'ONLINE_PLOT_OK',\n",
       " 'increments',\n",
       " 'period_refresh_plots',\n",
       " 'periods_plot',\n",
       " 'periods_print',\n",
       " 'periods_save',\n",
       " 'phys_fields',\n",
       " 'spatial_means',\n",
       " 'spect_energy_budg',\n",
       " 'spectra']"
      ]
     },
     "execution_count": 26,
     "metadata": {},
     "output_type": "execute_result"
    }
   ],
   "source": [
    "[attr for attr in dir(params.output) if not attr.startswith('_')]"
   ]
  },
  {
   "cell_type": "markdown",
   "metadata": {},
   "source": [
    "Therefore, the object `params` contains a tree of parameters. This tree can be represented as xml code:"
   ]
  },
  {
   "cell_type": "code",
   "execution_count": 27,
   "metadata": {
    "collapsed": false
   },
   "outputs": [
    {
     "name": "stdout",
     "output_type": "stream",
     "text": [
      "<fluidsim.base.params.Parameters object at 0x7feb9baf2610>\n",
      "\n",
      "<params ONLY_COARSE_OPER=\"False\" short_name_type_run=\"\" beta=\"0.0\" nu_2=\"0.0\"\n",
      "        NEW_DIR_RESULTS=\"True\" nu_4=\"0.0\" nu_8=\"0.0\" FORCING=\"False\"\n",
      "        nu_m4=\"0.0\">\n",
      "  <oper type_fft=\"FFTWCY\" nx=\"48\" ny=\"48\" coef_dealiasing=\"0.6666666666666666\"\n",
      "        TRANSPOSED_OK=\"True\" Lx=\"8\" Ly=\"8\"/>  \n",
      "\n",
      "  <init_fields available_types=\"['from_file', 'noise', 'constant', 'jet',\n",
      "               'manual', 'dipole', 'from_simul']\" type=\"constant\">\n",
      "    <from_file path=\"\"/>  \n",
      "\n",
      "    <noise length=\"0\" velo_max=\"1.0\"/>  \n",
      "\n",
      "    <constant value=\"1.0\"/>  \n",
      "\n",
      "  </init_fields>\n",
      "\n",
      "  <forcing nkmax_forcing=\"5\" nkmin_forcing=\"4\" key_forced=\"rot_fft\"\n",
      "           available_types=\"['proportional', 'random']\" type=\"\"\n",
      "           forcing_rate=\"1\">\n",
      "    <random type_normalize=\"2nd_degree_eq\"/>  \n",
      "\n",
      "  </forcing>\n",
      "\n",
      "  <time_stepping type_time_scheme=\"RK4\" it_end=\"10\" USE_CFL=\"True\" deltat0=\"0.2\"\n",
      "                 t_end=\"10.0\" USE_T_END=\"True\"/>  \n",
      "\n",
      "  <output period_refresh_plots=\"1\" ONLINE_PLOT_OK=\"True\" HAS_TO_SAVE=\"True\">\n",
      "    <periods_plot phys_fields=\"0\"/>  \n",
      "\n",
      "    <periods_print print_stdout=\"1.0\"/>  \n",
      "\n",
      "    <increments HAS_TO_PLOT_SAVED=\"False\"/>  \n",
      "\n",
      "    <spectra HAS_TO_PLOT_SAVED=\"False\"/>  \n",
      "\n",
      "    <spatial_means HAS_TO_PLOT_SAVED=\"False\"/>  \n",
      "\n",
      "    <spect_energy_budg HAS_TO_PLOT_SAVED=\"False\"/>  \n",
      "\n",
      "    <phys_fields field_to_plot=\"rot\" file_with_it=\"False\"/>  \n",
      "\n",
      "    <periods_save spect_energy_budg=\"0\" spatial_means=\"0\" spectra=\"0\"\n",
      "                  increments=\"0\" phys_fields=\"0\"/>  \n",
      "\n",
      "  </output>\n",
      "\n",
      "</params>\n",
      "\n"
     ]
    }
   ],
   "source": [
    "print(params)"
   ]
  },
  {
   "cell_type": "markdown",
   "metadata": {},
   "source": [
    "## Set the parameters for your simulation"
   ]
  },
  {
   "cell_type": "markdown",
   "metadata": {},
   "source": [
    "The user can change any parameters"
   ]
  },
  {
   "cell_type": "code",
   "execution_count": 28,
   "metadata": {
    "collapsed": false
   },
   "outputs": [
    {
     "data": {
      "text/plain": [
       "'constant'"
      ]
     },
     "execution_count": 28,
     "metadata": {},
     "output_type": "execute_result"
    }
   ],
   "source": [
    "params.nu_2 = 1.\n",
    "params.FORCING = False\n",
    "params.init_fields.type"
   ]
  },
  {
   "cell_type": "raw",
   "metadata": {},
   "source": [
    "but it is impossible to create accidentally a parameter which is actually not used:"
   ]
  },
  {
   "cell_type": "code",
   "execution_count": 29,
   "metadata": {
    "collapsed": false
   },
   "outputs": [
    {
     "name": "stdout",
     "output_type": "stream",
     "text": [
      "AttributeError: this_param_does_not_exit is not already set in params.\n",
      "The attributes are: set(['ONLY_COARSE_OPER', 'short_name_type_run', 'beta', 'nu_2', 'NEW_DIR_RESULTS', 'nu_4', 'nu_8', 'FORCING', 'nu_m4'])\n",
      "To set a new attribute, use _set_attrib or _set_attribs.\n"
     ]
    }
   ],
   "source": [
    "try:\n",
    "    params.this_param_does_not_exit = 10\n",
    "except AttributeError as e:\n",
    "    print('AttributeError:', e)"
   ]
  },
  {
   "cell_type": "markdown",
   "metadata": {},
   "source": [
    "This behaviour is much safer than using a text file or a python file for the parameters.   "
   ]
  },
  {
   "cell_type": "markdown",
   "metadata": {},
   "source": [
    "## Instantiate a simulation object"
   ]
  },
  {
   "cell_type": "markdown",
   "metadata": {},
   "source": [
    "The next step is to create a simulation object (instance of the class solver.Simul) with the parameters in `params`:"
   ]
  },
  {
   "cell_type": "code",
   "execution_count": 30,
   "metadata": {
    "collapsed": false
   },
   "outputs": [
    {
     "name": "stdout",
     "output_type": "stream",
     "text": [
      "*************************************\n",
      "Program FluidDyn\n",
      "\n",
      "solver NS2D, RK4 and sequenciel,\n",
      "type fft: FFTWCY\n",
      "nx =     48 ; ny =     48\n",
      "Lx = 8. ; Ly = 8.\n",
      "path_run =\n",
      "/home/pierre/Sim_data/NS2D_L=8.x8._48x48_2015-04-19_18-17-50\n",
      "init_fields.type: constant\n",
      "Initialization outputs:\n",
      "<class 'fluidsim.base.output.increments.Increments'> increments\n",
      "<class 'fluidsim.base.output.phys_fields.PhysFieldsBase'> phys_fields\n",
      "<class 'fluidsim.solvers.ns2d.output.spectra.SpectraNS2D'> spectra\n",
      "<class 'fluidsim.solvers.ns2d.output.spatial_means.SpatialMeansNS2D'> spatial_means\n",
      "<class 'fluidsim.solvers.ns2d.output.spect_energy_budget.SpectralEnergyBudgetNS2D'> spect_energy_budg\n",
      "\n",
      "Memory usage at the end of init. (equiv. seq.): 75.234375 Mo\n",
      "Size of state_fft (equiv. seq.): 0.0192 Mo\n"
     ]
    }
   ],
   "source": [
    "sim = solver.Simul(params)"
   ]
  },
  {
   "cell_type": "markdown",
   "metadata": {},
   "source": [
    "which initializes everything needed to run the simulation. The object `sim` has few attributes:"
   ]
  },
  {
   "cell_type": "code",
   "execution_count": 31,
   "metadata": {
    "collapsed": false
   },
   "outputs": [
    {
     "data": {
      "text/plain": [
       "['InfoSolver',\n",
       " 'compute_freq_diss',\n",
       " 'create_default_params',\n",
       " 'info',\n",
       " 'info_solver',\n",
       " 'init_fields',\n",
       " 'name_run',\n",
       " 'oper',\n",
       " 'output',\n",
       " 'params',\n",
       " 'state',\n",
       " 'tendencies_nonlin',\n",
       " 'time_stepping']"
      ]
     },
     "execution_count": 31,
     "metadata": {},
     "output_type": "execute_result"
    }
   ],
   "source": [
    "[attr for attr in dir(sim) if not attr.startswith('_')]"
   ]
  },
  {
   "cell_type": "raw",
   "metadata": {},
   "source": [
    "The object ``sim.info`` is a :class:`fluiddyn.util.paramcontainer.ParamContainer` which contains all the information on the solver (in ``sim.info.solver``) and on specific parameters for this simulation (in ``sim.info.solver``, which is actually the same object as ``sim.params``):"
   ]
  },
  {
   "cell_type": "code",
   "execution_count": 32,
   "metadata": {
    "collapsed": false
   },
   "outputs": [
    {
     "name": "stdout",
     "output_type": "stream",
     "text": [
      "<class 'fluiddyn.util.paramcontainer.ParamContainer'>\n",
      "['params', 'solver']\n"
     ]
    }
   ],
   "source": [
    "print(sim.info.__class__)\n",
    "print([attr for attr in dir(sim.info) if not attr.startswith('_')])"
   ]
  },
  {
   "cell_type": "code",
   "execution_count": 33,
   "metadata": {
    "collapsed": false
   },
   "outputs": [
    {
     "name": "stdout",
     "output_type": "stream",
     "text": [
      "<fluidsim.solvers.ns2d.solver.InfoSolverNS2D object at 0x7feb9badf450>\n",
      "\n",
      "<solver class_name=\"Simul\" module_name=\"fluidsim.solvers.ns2d.solver\"\n",
      "        short_name=\"NS2D\">\n",
      "  <classes>\n",
      "    <Operators class_name=\"OperatorsPseudoSpectral2D\"\n",
      "               module_name=\"fluidsim.operators.operators\"/>  \n",
      "\n",
      "    <InitFields class_name=\"InitFieldsNS2D\"\n",
      "                module_name=\"fluidsim.solvers.ns2d.init_fields\">\n",
      "      <classes>\n",
      "        <from_file class_name=\"InitFieldsFromFile\"\n",
      "                   module_name=\"fluidsim.base.init_fields\"/>  \n",
      "\n",
      "        <noise class_name=\"InitFieldsNoise\"\n",
      "               module_name=\"fluidsim.solvers.ns2d.init_fields\"/>  \n",
      "\n",
      "        <constant class_name=\"InitFieldsConstant\"\n",
      "                  module_name=\"fluidsim.base.init_fields\"/>  \n",
      "\n",
      "        <jet class_name=\"InitFieldsJet\"\n",
      "             module_name=\"fluidsim.solvers.ns2d.init_fields\"/>  \n",
      "\n",
      "        <manual class_name=\"InitFieldsManual\"\n",
      "                module_name=\"fluidsim.base.init_fields\"/>  \n",
      "\n",
      "        <dipole class_name=\"InitFieldsDipole\"\n",
      "                module_name=\"fluidsim.solvers.ns2d.init_fields\"/>  \n",
      "\n",
      "        <from_simul class_name=\"InitFieldsFromSimul\"\n",
      "                    module_name=\"fluidsim.base.init_fields\"/>  \n",
      "\n",
      "      </classes>\n",
      "\n",
      "    </InitFields>\n",
      "\n",
      "    <TimeStepping class_name=\"TimeSteppingPseudoSpectral\"\n",
      "                  module_name=\"fluidsim.base.time_stepping.pseudo_spect_cy\"/>  \n",
      "\n",
      "    <State keys_linear_eigenmodes=\"['rot_fft']\" keys_state_fft=\"['rot_fft']\"\n",
      "           class_name=\"StateNS2D\" keys_phys_needed=\"['rot']\"\n",
      "           keys_state_phys=\"['ux', 'uy', 'rot']\"\n",
      "           module_name=\"fluidsim.solvers.ns2d.state\" keys_computable=\"[]\"/>  \n",
      "\n",
      "    <Output class_name=\"Output\" module_name=\"fluidsim.solvers.ns2d.output\">\n",
      "      <classes>\n",
      "        <PrintStdOut class_name=\"PrintStdOutNS2D\"\n",
      "                     module_name=\"fluidsim.solvers.ns2d.output.print_stdout\"/>  \n",
      "\n",
      "        <increments class_name=\"Increments\"\n",
      "                    module_name=\"fluidsim.base.output.increments\"/>  \n",
      "\n",
      "        <PhysFields class_name=\"PhysFieldsBase\"\n",
      "                    module_name=\"fluidsim.base.output.phys_fields\"/>  \n",
      "\n",
      "        <Spectra class_name=\"SpectraNS2D\"\n",
      "                 module_name=\"fluidsim.solvers.ns2d.output.spectra\"/>  \n",
      "\n",
      "        <spatial_means class_name=\"SpatialMeansNS2D\"\n",
      "                       module_name=\"fluidsim.solvers.ns2d.output.spatial_means\"/>  \n",
      "\n",
      "        <spect_energy_budg class_name=\"SpectralEnergyBudgetNS2D\"\n",
      "                           module_name=\"fluidsim.solvers.ns2d.output.spect_energy_budget\"/>  \n",
      "\n",
      "      </classes>\n",
      "\n",
      "    </Output>\n",
      "\n",
      "    <Forcing class_name=\"ForcingNS2D\"\n",
      "             module_name=\"fluidsim.solvers.ns2d.forcing\">\n",
      "      <classes>\n",
      "        <proportional class_name=\"Proportional\"\n",
      "                      module_name=\"fluidsim.base.forcing.specific\"/>  \n",
      "\n",
      "        <random class_name=\"TimeCorrelatedRandomPseudoSpectral\"\n",
      "                module_name=\"fluidsim.base.forcing.specific\"/>  \n",
      "\n",
      "      </classes>\n",
      "\n",
      "    </Forcing>\n",
      "\n",
      "  </classes>\n",
      "\n",
      "</solver>\n",
      "\n"
     ]
    }
   ],
   "source": [
    "print(sim.info.solver)"
   ]
  },
  {
   "cell_type": "markdown",
   "metadata": {},
   "source": [
    "## Run the simulation"
   ]
  },
  {
   "cell_type": "markdown",
   "metadata": {},
   "source": [
    "We are ready to launch the simulation!"
   ]
  },
  {
   "cell_type": "code",
   "execution_count": 34,
   "metadata": {
    "collapsed": false
   },
   "outputs": [
    {
     "name": "stdout",
     "output_type": "stream",
     "text": [
      "*************************************\n",
      "Beginning of the computation\n",
      "save state_phys in file state_phys_t=000.000_it=0.hd5\n",
      "    compute until t =         10\n",
      "it =      0 ; t =          0 ; deltat  =   0.083333\n",
      "              energy = 0.000e+00 ; Delta energy = +0.000e+00\n",
      "\n",
      "it =      6 ; t =    1.08333 ; deltat  =        0.2\n",
      "              energy = 0.000e+00 ; Delta energy = +0.000e+00\n",
      "              estimated remaining duration =     0.332 s\n",
      "it =     12 ; t =    2.28333 ; deltat  =        0.2\n",
      "              energy = 0.000e+00 ; Delta energy = +0.000e+00\n",
      "              estimated remaining duration =     0.272 s\n",
      "it =     17 ; t =    3.28333 ; deltat  =        0.2\n",
      "              energy = 0.000e+00 ; Delta energy = +0.000e+00\n",
      "              estimated remaining duration =     0.362 s\n",
      "it =     22 ; t =    4.28333 ; deltat  =        0.2\n",
      "              energy = 0.000e+00 ; Delta energy = +0.000e+00\n",
      "              estimated remaining duration =     0.268 s\n",
      "it =     27 ; t =    5.28333 ; deltat  =        0.2\n",
      "              energy = 0.000e+00 ; Delta energy = +0.000e+00\n",
      "              estimated remaining duration =     0.216 s\n",
      "it =     32 ; t =    6.28333 ; deltat  =        0.2\n",
      "              energy = 0.000e+00 ; Delta energy = +0.000e+00\n",
      "              estimated remaining duration =      0.16 s\n",
      "it =     37 ; t =    7.28333 ; deltat  =        0.2\n",
      "              energy = 0.000e+00 ; Delta energy = +0.000e+00\n",
      "              estimated remaining duration =     0.129 s\n",
      "it =     43 ; t =    8.48333 ; deltat  =        0.2\n",
      "              energy = 0.000e+00 ; Delta energy = +0.000e+00\n",
      "              estimated remaining duration =    0.0715 s\n",
      "it =     49 ; t =    9.68333 ; deltat  =        0.2\n",
      "              energy = 0.000e+00 ; Delta energy = +0.000e+00\n",
      "              estimated remaining duration =    0.0142 s\n",
      "Computation completed in 0.563576 s\n",
      "path_run =\n",
      "/home/pierre/Sim_data/NS2D_L=8.x8._48x48_2015-04-19_18-17-50\n",
      "save state_phys in file state_phys_t=010.083_it=51.hd5\n"
     ]
    }
   ],
   "source": [
    "sim.time_stepping.start()"
   ]
  }
 ],
 "metadata": {
  "kernelspec": {
   "display_name": "Python 2",
   "language": "python",
   "name": "python2"
  },
  "language_info": {
   "codemirror_mode": {
    "name": "ipython",
    "version": 2
   },
   "file_extension": ".py",
   "mimetype": "text/x-python",
   "name": "python",
   "nbconvert_exporter": "python",
   "pygments_lexer": "ipython2",
   "version": "2.7.6"
  }
 },
 "nbformat": 4,
 "nbformat_minor": 0
}
