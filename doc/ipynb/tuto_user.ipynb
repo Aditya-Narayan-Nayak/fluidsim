{
 "cells": [
  {
   "cell_type": "code",
   "execution_count": 1,
   "metadata": {
    "collapsed": false
   },
   "outputs": [],
   "source": [
    "from __future__ import print_function\n",
    "%matplotlib inline\n",
    "import fluiddyn as fld"
   ]
  },
  {
   "cell_type": "raw",
   "metadata": {},
   "source": [
    ".. _tutosimuluser:"
   ]
  },
  {
   "cell_type": "markdown",
   "metadata": {},
   "source": [
    "# Tutorial: running a simulation (user perspective)"
   ]
  },
  {
   "cell_type": "markdown",
   "metadata": {},
   "source": [
    "In this tutorial, I'm going to show how to run a simple simulation with a solver that solves the 2 dimensional Navier-Stokes equations. I'm also going to present some useful concepts and objects used in FluidSim."
   ]
  },
  {
   "cell_type": "markdown",
   "metadata": {},
   "source": [
    "## A minimal simulation"
   ]
  },
  {
   "cell_type": "markdown",
   "metadata": {},
   "source": [
    "But fisrt, let's see what is needed to run a very simple simulation. For the initialization (with default parameters):"
   ]
  },
  {
   "cell_type": "code",
   "execution_count": 2,
   "metadata": {
    "collapsed": false
   },
   "outputs": [
    {
     "name": "stdout",
     "output_type": "stream",
     "text": [
      "*************************************\n",
      "Program FluidDyn\n",
      "\n",
      "solver NS2D, RK4 and sequential,\n",
      "type fft: FFTWCY\n",
      "nx =     48 ; ny =     48\n",
      "Lx = 8. ; Ly = 8.\n",
      "path_run =\n",
      "/home/pierre/Sim_data/NS2D_L=8.x8._48x48_2015-06-20_00-30-51\n",
      "init_fields.type: constant\n",
      "Initialization outputs:\n",
      "<class 'fluidsim.base.output.increments.Increments'> increments\n",
      "<class 'fluidsim.base.output.phys_fields.PhysFieldsBase'> phys_fields\n",
      "<class 'fluidsim.solvers.ns2d.output.spectra.SpectraNS2D'> spectra\n",
      "<class 'fluidsim.solvers.ns2d.output.spatial_means.SpatialMeansNS2D'> spatial_means\n",
      "<class 'fluidsim.solvers.ns2d.output.spect_energy_budget.SpectralEnergyBudgetNS2D'> spect_energy_budg\n",
      "\n",
      "Memory usage at the end of init. (equiv. seq.): 75.29296875 Mo\n",
      "Size of state_fft (equiv. seq.): 0.0192 Mo\n"
     ]
    }
   ],
   "source": [
    "from fluidsim.solvers.ns2d.solver import Simul\n",
    "params = Simul.create_default_params()\n",
    "sim = Simul(params)"
   ]
  },
  {
   "cell_type": "markdown",
   "metadata": {},
   "source": [
    "And then to run the simulation:"
   ]
  },
  {
   "cell_type": "code",
   "execution_count": 3,
   "metadata": {
    "collapsed": false
   },
   "outputs": [
    {
     "name": "stdout",
     "output_type": "stream",
     "text": [
      "*************************************\n",
      "Beginning of the computation\n",
      "save state_phys in file state_phys_t=000.000_it=0.hd5\n",
      "    compute until t =         10\n",
      "it =      0 ; t =          0 ; deltat  =   0.083333\n",
      "              energy = 0.000e+00 ; Delta energy = +0.000e+00\n",
      "\n",
      "it =      6 ; t =    1.08333 ; deltat  =        0.2\n",
      "              energy = 0.000e+00 ; Delta energy = +0.000e+00\n",
      "              estimated remaining duration =     0.576 s\n",
      "it =     12 ; t =    2.28333 ; deltat  =        0.2\n",
      "              energy = 0.000e+00 ; Delta energy = +0.000e+00\n",
      "              estimated remaining duration =     0.288 s\n",
      "it =     17 ; t =    3.28333 ; deltat  =        0.2\n",
      "              energy = 0.000e+00 ; Delta energy = +0.000e+00\n",
      "              estimated remaining duration =      0.25 s\n",
      "it =     22 ; t =    4.28333 ; deltat  =        0.2\n",
      "              energy = 0.000e+00 ; Delta energy = +0.000e+00\n",
      "              estimated remaining duration =     0.271 s\n",
      "it =     27 ; t =    5.28333 ; deltat  =        0.2\n",
      "              energy = 0.000e+00 ; Delta energy = +0.000e+00\n",
      "              estimated remaining duration =     0.234 s\n",
      "it =     32 ; t =    6.28333 ; deltat  =        0.2\n",
      "              energy = 0.000e+00 ; Delta energy = +0.000e+00\n",
      "              estimated remaining duration =     0.123 s\n",
      "it =     37 ; t =    7.28333 ; deltat  =        0.2\n",
      "              energy = 0.000e+00 ; Delta energy = +0.000e+00\n",
      "              estimated remaining duration =     0.113 s\n",
      "it =     43 ; t =    8.48333 ; deltat  =        0.2\n",
      "              energy = 0.000e+00 ; Delta energy = +0.000e+00\n",
      "              estimated remaining duration =    0.0508 s\n",
      "it =     49 ; t =    9.68333 ; deltat  =        0.2\n",
      "              energy = 0.000e+00 ; Delta energy = +0.000e+00\n",
      "              estimated remaining duration =    0.0137 s\n",
      "Computation completed in 0.538205 s\n",
      "path_run =\n",
      "/home/pierre/Sim_data/NS2D_L=8.x8._48x48_2015-06-20_00-30-51\n",
      "save state_phys in file state_phys_t=010.083_it=51.hd5\n"
     ]
    }
   ],
   "source": [
    "sim.time_stepping.start()"
   ]
  },
  {
   "cell_type": "markdown",
   "metadata": {},
   "source": [
    "## Importing a solver"
   ]
  },
  {
   "cell_type": "raw",
   "metadata": {},
   "source": [
    "The first thing to do is to import a \"Simulation\" class from a \"solver\" module. Any solver module has to provide a class called \"Simul\". We have already seen that the Simul class can be imported like this:"
   ]
  },
  {
   "cell_type": "code",
   "execution_count": 4,
   "metadata": {
    "collapsed": false
   },
   "outputs": [],
   "source": [
    "from fluidsim.solvers.ns2d.solver import Simul"
   ]
  },
  {
   "cell_type": "markdown",
   "metadata": {},
   "source": [
    "but there is another convenient way to import it from a string:"
   ]
  },
  {
   "cell_type": "code",
   "execution_count": 5,
   "metadata": {
    "collapsed": false
   },
   "outputs": [],
   "source": [
    "Simul = fld.simul.import_simul_class_from_key('ns2d')"
   ]
  },
  {
   "cell_type": "markdown",
   "metadata": {},
   "source": [
    "## Create an instance of the class Parameters"
   ]
  },
  {
   "cell_type": "markdown",
   "metadata": {},
   "source": [
    "The next step is to create an object ``params`` from the information contained in the class ``Simul``:"
   ]
  },
  {
   "cell_type": "code",
   "execution_count": 6,
   "metadata": {
    "collapsed": false
   },
   "outputs": [],
   "source": [
    "params = Simul.create_default_params()"
   ]
  },
  {
   "cell_type": "raw",
   "metadata": {},
   "source": [
    "The object ``params`` is an instance of the class :class:`fluidsim.base.params.Parameters` (which inherits from :class:`fluiddyn.util.paramcontainer.ParamContainer`). It is usually a quite complex object containing many attributes. In this case, it contains many parameters (if you don't understand the next command, you should have a look at the section on `list comprehensions <https://docs.python.org/2/tutorial/datastructures.html#list-comprehensions>`_ of the official Python tutorial):"
   ]
  },
  {
   "cell_type": "code",
   "execution_count": 7,
   "metadata": {
    "collapsed": false
   },
   "outputs": [
    {
     "data": {
      "text/plain": [
       "['FORCING',\n",
       " 'NEW_DIR_RESULTS',\n",
       " 'ONLY_COARSE_OPER',\n",
       " 'beta',\n",
       " 'forcing',\n",
       " 'init_fields',\n",
       " 'nu_2',\n",
       " 'nu_4',\n",
       " 'nu_8',\n",
       " 'nu_m4',\n",
       " 'oper',\n",
       " 'output',\n",
       " 'short_name_type_run',\n",
       " 'time_stepping']"
      ]
     },
     "execution_count": 7,
     "metadata": {},
     "output_type": "execute_result"
    }
   ],
   "source": [
    "[attr for attr in dir(params) if not attr.startswith('_')]"
   ]
  },
  {
   "cell_type": "raw",
   "metadata": {},
   "source": [
    "and some useful functions (whose names all start with ``_`` in order to be hidden in Ipython): "
   ]
  },
  {
   "cell_type": "code",
   "execution_count": 8,
   "metadata": {
    "collapsed": false
   },
   "outputs": [
    {
     "data": {
      "text/plain": [
       "['_attribs',\n",
       " '_load_from_elemxml',\n",
       " '_load_from_hdf5_file',\n",
       " '_load_from_hdf5_objet',\n",
       " '_load_from_xml_file',\n",
       " '_make_dict',\n",
       " '_make_element_xml',\n",
       " '_make_xml_text',\n",
       " '_print_as_xml',\n",
       " '_save_as_hdf5',\n",
       " '_save_as_xml',\n",
       " '_set_as_child',\n",
       " '_set_attrib',\n",
       " '_set_attribs',\n",
       " '_set_child',\n",
       " '_set_internal_attr',\n",
       " '_tag',\n",
       " '_tag_children']"
      ]
     },
     "execution_count": 8,
     "metadata": {},
     "output_type": "execute_result"
    }
   ],
   "source": [
    "[attr for attr in dir(params) if attr.startswith('_') and not attr.startswith('__')]"
   ]
  },
  {
   "cell_type": "raw",
   "metadata": {},
   "source": [
    "Some of the attributes of ``params`` are simple Python objects and others can be other :class:`fluidsim.base.params.Parameters`:"
   ]
  },
  {
   "cell_type": "code",
   "execution_count": 9,
   "metadata": {
    "collapsed": false
   },
   "outputs": [
    {
     "name": "stdout",
     "output_type": "stream",
     "text": [
      "<type 'float'>\n",
      "<class 'fluidsim.base.params.Parameters'>\n"
     ]
    }
   ],
   "source": [
    "print(type(params.nu_2))\n",
    "print(type(params.output))"
   ]
  },
  {
   "cell_type": "code",
   "execution_count": 10,
   "metadata": {
    "collapsed": false
   },
   "outputs": [
    {
     "data": {
      "text/plain": [
       "['HAS_TO_SAVE',\n",
       " 'ONLINE_PLOT_OK',\n",
       " 'increments',\n",
       " 'period_refresh_plots',\n",
       " 'periods_plot',\n",
       " 'periods_print',\n",
       " 'periods_save',\n",
       " 'phys_fields',\n",
       " 'spatial_means',\n",
       " 'spect_energy_budg',\n",
       " 'spectra',\n",
       " 'sub_directory']"
      ]
     },
     "execution_count": 10,
     "metadata": {},
     "output_type": "execute_result"
    }
   ],
   "source": [
    "[attr for attr in dir(params.output) if not attr.startswith('_')]"
   ]
  },
  {
   "cell_type": "markdown",
   "metadata": {},
   "source": [
    "We see that the object `params` contains a tree of parameters. This tree can be represented as xml code:"
   ]
  },
  {
   "cell_type": "code",
   "execution_count": 11,
   "metadata": {
    "collapsed": false
   },
   "outputs": [
    {
     "name": "stdout",
     "output_type": "stream",
     "text": [
      "<fluidsim.base.params.Parameters object at 0x7f74c646b310>\n",
      "\n",
      "<params ONLY_COARSE_OPER=\"False\" short_name_type_run=\"\" beta=\"0.0\" nu_2=\"0.0\"\n",
      "        NEW_DIR_RESULTS=\"True\" nu_4=\"0.0\" nu_8=\"0.0\" FORCING=\"False\"\n",
      "        nu_m4=\"0.0\">\n",
      "  <oper type_fft=\"FFTWCY\" nx=\"48\" ny=\"48\" coef_dealiasing=\"0.6666666666666666\"\n",
      "        TRANSPOSED_OK=\"True\" Lx=\"8\" Ly=\"8\"/>  \n",
      "\n",
      "  <init_fields available_types=\"['from_file', 'noise', 'constant', 'jet',\n",
      "               'manual', 'dipole', 'from_simul']\" type=\"constant\">\n",
      "    <from_file path=\"\"/>  \n",
      "\n",
      "    <noise length=\"0\" velo_max=\"1.0\"/>  \n",
      "\n",
      "    <constant value=\"1.0\"/>  \n",
      "\n",
      "  </init_fields>\n",
      "\n",
      "  <forcing nkmax_forcing=\"5\" nkmin_forcing=\"4\" key_forced=\"rot_fft\"\n",
      "           available_types=\"['proportional', 'random']\" type=\"\"\n",
      "           forcing_rate=\"1\">\n",
      "    <random type_normalize=\"2nd_degree_eq\"\n",
      "            time_correlation=\"based_on_forcing_rate\"/>  \n",
      "\n",
      "  </forcing>\n",
      "\n",
      "  <time_stepping type_time_scheme=\"RK4\" it_end=\"10\" USE_CFL=\"True\" deltat0=\"0.2\"\n",
      "                 t_end=\"10.0\" USE_T_END=\"True\"/>  \n",
      "\n",
      "  <output period_refresh_plots=\"1\" HAS_TO_SAVE=\"True\" ONLINE_PLOT_OK=\"True\"\n",
      "          sub_directory=\"\">\n",
      "    <periods_plot phys_fields=\"0\"/>  \n",
      "\n",
      "    <periods_print print_stdout=\"1.0\"/>  \n",
      "\n",
      "    <increments HAS_TO_PLOT_SAVED=\"False\"/>  \n",
      "\n",
      "    <spectra HAS_TO_PLOT_SAVED=\"False\"/>  \n",
      "\n",
      "    <spatial_means HAS_TO_PLOT_SAVED=\"False\"/>  \n",
      "\n",
      "    <spect_energy_budg HAS_TO_PLOT_SAVED=\"False\"/>  \n",
      "\n",
      "    <phys_fields field_to_plot=\"rot\" file_with_it=\"False\"/>  \n",
      "\n",
      "    <periods_save spect_energy_budg=\"0\" spatial_means=\"0\" spectra=\"0\"\n",
      "                  increments=\"0\" phys_fields=\"0\"/>  \n",
      "\n",
      "  </output>\n",
      "\n",
      "</params>\n",
      "\n"
     ]
    }
   ],
   "source": [
    "print(params)"
   ]
  },
  {
   "cell_type": "markdown",
   "metadata": {},
   "source": [
    "## Set the parameters for your simulation"
   ]
  },
  {
   "cell_type": "markdown",
   "metadata": {},
   "source": [
    "The user can change any parameters"
   ]
  },
  {
   "cell_type": "code",
   "execution_count": 12,
   "metadata": {
    "collapsed": false
   },
   "outputs": [],
   "source": [
    "params.nu_2 = 1.\n",
    "params.FORCING = False"
   ]
  },
  {
   "cell_type": "raw",
   "metadata": {},
   "source": [
    "but it is impossible to create accidentally a parameter which is actually not used:"
   ]
  },
  {
   "cell_type": "code",
   "execution_count": 13,
   "metadata": {
    "collapsed": false
   },
   "outputs": [
    {
     "name": "stdout",
     "output_type": "stream",
     "text": [
      "AttributeError: this_param_does_not_exit is not already set in params.\n",
      "The attributes are: set(['ONLY_COARSE_OPER', 'short_name_type_run', 'beta', 'nu_2', 'NEW_DIR_RESULTS', 'nu_4', 'nu_8', 'FORCING', 'nu_m4'])\n",
      "To set a new attribute, use _set_attrib or _set_attribs.\n"
     ]
    }
   ],
   "source": [
    "try:\n",
    "    params.this_param_does_not_exit = 10\n",
    "except AttributeError as e:\n",
    "    print('AttributeError:', e)"
   ]
  },
  {
   "cell_type": "markdown",
   "metadata": {},
   "source": [
    "This behaviour is much safer than using a text file or a python file for the parameters. In order to discover the different parameters for a solver, create the ``params`` object in Ipython, print it and use the completion (with the tab key)."
   ]
  },
  {
   "cell_type": "markdown",
   "metadata": {},
   "source": [
    "## Instantiate a simulation object"
   ]
  },
  {
   "cell_type": "markdown",
   "metadata": {},
   "source": [
    "The next step is to create a simulation object (instance of the class solver.Simul) with the parameters in `params`:"
   ]
  },
  {
   "cell_type": "code",
   "execution_count": 14,
   "metadata": {
    "collapsed": false
   },
   "outputs": [
    {
     "name": "stdout",
     "output_type": "stream",
     "text": [
      "*************************************\n",
      "Program FluidDyn\n",
      "\n",
      "solver NS2D, RK4 and sequential,\n",
      "type fft: FFTWCY\n",
      "nx =     48 ; ny =     48\n",
      "Lx = 8. ; Ly = 8.\n",
      "path_run =\n",
      "/home/pierre/Sim_data/NS2D_L=8.x8._48x48_2015-06-20_00-30-54\n",
      "init_fields.type: constant\n",
      "Initialization outputs:\n",
      "<class 'fluidsim.base.output.increments.Increments'> increments\n",
      "<class 'fluidsim.base.output.phys_fields.PhysFieldsBase'> phys_fields\n",
      "<class 'fluidsim.solvers.ns2d.output.spectra.SpectraNS2D'> spectra\n",
      "<class 'fluidsim.solvers.ns2d.output.spatial_means.SpatialMeansNS2D'> spatial_means\n",
      "<class 'fluidsim.solvers.ns2d.output.spect_energy_budget.SpectralEnergyBudgetNS2D'> spect_energy_budg\n",
      "\n",
      "Memory usage at the end of init. (equiv. seq.): 77.703125 Mo\n",
      "Size of state_fft (equiv. seq.): 0.0192 Mo\n"
     ]
    }
   ],
   "source": [
    "sim = Simul(params)"
   ]
  },
  {
   "cell_type": "markdown",
   "metadata": {},
   "source": [
    "which initializes everything needed to run the simulation. The object `sim` has a limited number of attributes:"
   ]
  },
  {
   "cell_type": "code",
   "execution_count": 15,
   "metadata": {
    "collapsed": false
   },
   "outputs": [
    {
     "data": {
      "text/plain": [
       "['InfoSolver',\n",
       " 'compute_freq_diss',\n",
       " 'create_default_params',\n",
       " 'info',\n",
       " 'info_solver',\n",
       " 'init_fields',\n",
       " 'name_run',\n",
       " 'oper',\n",
       " 'output',\n",
       " 'params',\n",
       " 'state',\n",
       " 'tendencies_nonlin',\n",
       " 'time_stepping']"
      ]
     },
     "execution_count": 15,
     "metadata": {},
     "output_type": "execute_result"
    }
   ],
   "source": [
    "[attr for attr in dir(sim) if not attr.startswith('_')]"
   ]
  },
  {
   "cell_type": "raw",
   "metadata": {},
   "source": [
    "The object ``sim.info`` is a :class:`fluiddyn.util.paramcontainer.ParamContainer` which contains all the information on the solver (in ``sim.info.solver``) and on specific parameters for this simulation (in ``sim.info.solver``):"
   ]
  },
  {
   "cell_type": "code",
   "execution_count": 16,
   "metadata": {
    "collapsed": false
   },
   "outputs": [
    {
     "name": "stdout",
     "output_type": "stream",
     "text": [
      "<class 'fluiddyn.util.paramcontainer.ParamContainer'>\n",
      "['params', 'solver']\n"
     ]
    }
   ],
   "source": [
    "print(sim.info.__class__)\n",
    "print([attr for attr in dir(sim.info) if not attr.startswith('_')])"
   ]
  },
  {
   "cell_type": "code",
   "execution_count": 17,
   "metadata": {
    "collapsed": false
   },
   "outputs": [
    {
     "data": {
      "text/plain": [
       "True"
      ]
     },
     "execution_count": 17,
     "metadata": {},
     "output_type": "execute_result"
    }
   ],
   "source": [
    "sim.info.solver is sim.info_solver"
   ]
  },
  {
   "cell_type": "code",
   "execution_count": 18,
   "metadata": {
    "collapsed": false
   },
   "outputs": [
    {
     "data": {
      "text/plain": [
       "True"
      ]
     },
     "execution_count": 18,
     "metadata": {},
     "output_type": "execute_result"
    }
   ],
   "source": [
    "sim.info.params is sim.params"
   ]
  },
  {
   "cell_type": "code",
   "execution_count": 19,
   "metadata": {
    "collapsed": false
   },
   "outputs": [
    {
     "name": "stdout",
     "output_type": "stream",
     "text": [
      "<fluidsim.solvers.ns2d.solver.InfoSolverNS2D object at 0x7f74f573c1d0>\n",
      "\n",
      "<solver class_name=\"Simul\" module_name=\"fluidsim.solvers.ns2d.solver\"\n",
      "        short_name=\"NS2D\">\n",
      "  <classes>\n",
      "    <Operators class_name=\"OperatorsPseudoSpectral2D\"\n",
      "               module_name=\"fluidsim.operators.operators\"/>  \n",
      "\n",
      "    <InitFields class_name=\"InitFieldsNS2D\"\n",
      "                module_name=\"fluidsim.solvers.ns2d.init_fields\">\n",
      "      <classes>\n",
      "        <from_file class_name=\"InitFieldsFromFile\"\n",
      "                   module_name=\"fluidsim.base.init_fields\"/>  \n",
      "\n",
      "        <noise class_name=\"InitFieldsNoise\"\n",
      "               module_name=\"fluidsim.solvers.ns2d.init_fields\"/>  \n",
      "\n",
      "        <constant class_name=\"InitFieldsConstant\"\n",
      "                  module_name=\"fluidsim.base.init_fields\"/>  \n",
      "\n",
      "        <jet class_name=\"InitFieldsJet\"\n",
      "             module_name=\"fluidsim.solvers.ns2d.init_fields\"/>  \n",
      "\n",
      "        <manual class_name=\"InitFieldsManual\"\n",
      "                module_name=\"fluidsim.base.init_fields\"/>  \n",
      "\n",
      "        <dipole class_name=\"InitFieldsDipole\"\n",
      "                module_name=\"fluidsim.solvers.ns2d.init_fields\"/>  \n",
      "\n",
      "        <from_simul class_name=\"InitFieldsFromSimul\"\n",
      "                    module_name=\"fluidsim.base.init_fields\"/>  \n",
      "\n",
      "      </classes>\n",
      "\n",
      "    </InitFields>\n",
      "\n",
      "    <TimeStepping class_name=\"TimeSteppingPseudoSpectral\"\n",
      "                  module_name=\"fluidsim.base.time_stepping.pseudo_spect_cy\"/>  \n",
      "\n",
      "    <State keys_linear_eigenmodes=\"['rot_fft']\" keys_state_fft=\"['rot_fft']\"\n",
      "           class_name=\"StateNS2D\" keys_phys_needed=\"['rot']\"\n",
      "           keys_state_phys=\"['ux', 'uy', 'rot']\"\n",
      "           module_name=\"fluidsim.solvers.ns2d.state\" keys_computable=\"[]\"/>  \n",
      "\n",
      "    <Output class_name=\"Output\" module_name=\"fluidsim.solvers.ns2d.output\">\n",
      "      <classes>\n",
      "        <PrintStdOut class_name=\"PrintStdOutNS2D\"\n",
      "                     module_name=\"fluidsim.solvers.ns2d.output.print_stdout\"/>  \n",
      "\n",
      "        <increments class_name=\"Increments\"\n",
      "                    module_name=\"fluidsim.base.output.increments\"/>  \n",
      "\n",
      "        <PhysFields class_name=\"PhysFieldsBase\"\n",
      "                    module_name=\"fluidsim.base.output.phys_fields\"/>  \n",
      "\n",
      "        <Spectra class_name=\"SpectraNS2D\"\n",
      "                 module_name=\"fluidsim.solvers.ns2d.output.spectra\"/>  \n",
      "\n",
      "        <spatial_means class_name=\"SpatialMeansNS2D\"\n",
      "                       module_name=\"fluidsim.solvers.ns2d.output.spatial_means\"/>  \n",
      "\n",
      "        <spect_energy_budg class_name=\"SpectralEnergyBudgetNS2D\"\n",
      "                           module_name=\"fluidsim.solvers.ns2d.output.spect_energy_budget\"/>  \n",
      "\n",
      "      </classes>\n",
      "\n",
      "    </Output>\n",
      "\n",
      "    <Forcing class_name=\"ForcingNS2D\"\n",
      "             module_name=\"fluidsim.solvers.ns2d.forcing\">\n",
      "      <classes>\n",
      "        <proportional class_name=\"Proportional\"\n",
      "                      module_name=\"fluidsim.base.forcing.specific\"/>  \n",
      "\n",
      "        <random class_name=\"TimeCorrelatedRandomPseudoSpectral\"\n",
      "                module_name=\"fluidsim.base.forcing.specific\"/>  \n",
      "\n",
      "      </classes>\n",
      "\n",
      "    </Forcing>\n",
      "\n",
      "  </classes>\n",
      "\n",
      "</solver>\n",
      "\n"
     ]
    }
   ],
   "source": [
    "print(sim.info.solver)"
   ]
  },
  {
   "cell_type": "markdown",
   "metadata": {},
   "source": [
    "## Run the simulation"
   ]
  },
  {
   "cell_type": "markdown",
   "metadata": {},
   "source": [
    "We are ready to launch the simulation!"
   ]
  },
  {
   "cell_type": "code",
   "execution_count": 20,
   "metadata": {
    "collapsed": false
   },
   "outputs": [
    {
     "name": "stdout",
     "output_type": "stream",
     "text": [
      "*************************************\n",
      "Beginning of the computation\n",
      "save state_phys in file state_phys_t=000.000_it=0.hd5\n",
      "    compute until t =         10\n",
      "it =      0 ; t =          0 ; deltat  =   0.083333\n",
      "              energy = 0.000e+00 ; Delta energy = +0.000e+00\n",
      "\n",
      "it =      6 ; t =    1.08333 ; deltat  =        0.2\n",
      "              energy = 0.000e+00 ; Delta energy = +0.000e+00\n",
      "              estimated remaining duration =     0.359 s\n",
      "it =     12 ; t =    2.28333 ; deltat  =        0.2\n",
      "              energy = 0.000e+00 ; Delta energy = +0.000e+00\n",
      "              estimated remaining duration =     0.281 s\n",
      "it =     17 ; t =    3.28333 ; deltat  =        0.2\n",
      "              energy = 0.000e+00 ; Delta energy = +0.000e+00\n",
      "              estimated remaining duration =     0.281 s\n",
      "it =     22 ; t =    4.28333 ; deltat  =        0.2\n",
      "              energy = 0.000e+00 ; Delta energy = +0.000e+00\n",
      "              estimated remaining duration =     0.199 s\n",
      "it =     27 ; t =    5.28333 ; deltat  =        0.2\n",
      "              energy = 0.000e+00 ; Delta energy = +0.000e+00\n",
      "              estimated remaining duration =     0.208 s\n",
      "it =     32 ; t =    6.28333 ; deltat  =        0.2\n",
      "              energy = 0.000e+00 ; Delta energy = +0.000e+00\n",
      "              estimated remaining duration =     0.162 s\n",
      "it =     37 ; t =    7.28333 ; deltat  =        0.2\n",
      "              energy = 0.000e+00 ; Delta energy = +0.000e+00\n",
      "              estimated remaining duration =     0.123 s\n",
      "it =     43 ; t =    8.48333 ; deltat  =        0.2\n",
      "              energy = 0.000e+00 ; Delta energy = +0.000e+00\n",
      "              estimated remaining duration =    0.0576 s\n",
      "it =     49 ; t =    9.68333 ; deltat  =        0.2\n",
      "              energy = 0.000e+00 ; Delta energy = +0.000e+00\n",
      "              estimated remaining duration =    0.0126 s\n",
      "Computation completed in 0.488285 s\n",
      "path_run =\n",
      "/home/pierre/Sim_data/NS2D_L=8.x8._48x48_2015-06-20_00-30-54\n",
      "save state_phys in file state_phys_t=010.083_it=51.hd5\n"
     ]
    }
   ],
   "source": [
    "sim.time_stepping.start()"
   ]
  }
 ],
 "metadata": {
  "kernelspec": {
   "display_name": "Python 2",
   "language": "python",
   "name": "python2"
  },
  "language_info": {
   "codemirror_mode": {
    "name": "ipython",
    "version": 2
   },
   "file_extension": ".py",
   "mimetype": "text/x-python",
   "name": "python",
   "nbconvert_exporter": "python",
   "pygments_lexer": "ipython2",
   "version": "2.7.6"
  }
 },
 "nbformat": 4,
 "nbformat_minor": 0
}
