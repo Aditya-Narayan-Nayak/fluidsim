{
 "cells": [
  {
   "cell_type": "code",
   "execution_count": 34,
   "metadata": {
    "collapsed": true
   },
   "outputs": [],
   "source": [
    "from __future__ import print_function\n",
    "%matplotlib inline"
   ]
  },
  {
   "cell_type": "raw",
   "metadata": {},
   "source": [
    ".. _tutosimuldev:"
   ]
  },
  {
   "cell_type": "markdown",
   "metadata": {},
   "source": [
    "# Tutorial: understand how works FluidSim"
   ]
  },
  {
   "cell_type": "raw",
   "metadata": {},
   "source": [
    "A goal of FluidSim is to be as simple as possible to allow anyone knowing a little bit of Python to understand how it works internally. For this tutorial, it is assumed that the reader knows how to run simulations with FluidSim. If it is not the case, first read the tutorial `running a simulation (user perspective) <tuto_user.html>`_."
   ]
  },
  {
   "cell_type": "markdown",
   "metadata": {},
   "source": [
    "## A class to organized parameters"
   ]
  },
  {
   "cell_type": "raw",
   "metadata": {},
   "source": [
    "First, we need to present the important class `fluiddyn.util.paramcontainer.ParamContainer <http://fluiddyn.readthedocs.org/en/latest/generated/fluiddyn.util.paramcontainer.html>`_ used to contain information."
   ]
  },
  {
   "cell_type": "code",
   "execution_count": 35,
   "metadata": {
    "collapsed": false
   },
   "outputs": [],
   "source": [
    "from fluiddyn.util.paramcontainer import ParamContainer\n",
    "params = ParamContainer(tag='params')\n",
    "params._set_attribs({'a0': 1, 'a1': 1})\n",
    "params._set_attrib('a2', 1)\n",
    "params._set_child('child0', {'a0': 1})\n",
    "params.a2 = 2\n",
    "params.child0.a0 = 'other option'"
   ]
  },
  {
   "cell_type": "markdown",
   "metadata": {},
   "source": [
    "A `ParamContainer` can be represented as xml"
   ]
  },
  {
   "cell_type": "code",
   "execution_count": 36,
   "metadata": {
    "collapsed": false
   },
   "outputs": [
    {
     "data": {
      "text/plain": [
       "<fluiddyn.util.paramcontainer.ParamContainer object at 0x7fc36a7a61d0>\n",
       "\n",
       "<params a1=\"1\" a0=\"1\" a2=\"2\">\n",
       "  <child0 a0=\"other option\"/>  \n",
       "\n",
       "</params>"
      ]
     },
     "execution_count": 36,
     "metadata": {},
     "output_type": "execute_result"
    }
   ],
   "source": [
    "params"
   ]
  },
  {
   "cell_type": "markdown",
   "metadata": {},
   "source": [
    "FluidSim uses instances of this class to store the information of a particular solver and the parameters of a particular simulation."
   ]
  },
  {
   "cell_type": "markdown",
   "metadata": {},
   "source": [
    "## The Simul classes and the default parameters"
   ]
  },
  {
   "cell_type": "markdown",
   "metadata": {},
   "source": [
    "The first step to run a simulation is to import a Simul class from a solver module, for example:"
   ]
  },
  {
   "cell_type": "code",
   "execution_count": 37,
   "metadata": {
    "collapsed": false
   },
   "outputs": [],
   "source": [
    "from fluidsim.solvers.ns2d.solver import Simul"
   ]
  },
  {
   "cell_type": "markdown",
   "metadata": {},
   "source": [
    "Any solver module has to define a class called Simul which has to have some important attributes:"
   ]
  },
  {
   "cell_type": "code",
   "execution_count": 38,
   "metadata": {
    "collapsed": false
   },
   "outputs": [
    {
     "data": {
      "text/plain": [
       "['InfoSolver',\n",
       " '_complete_params_with_default',\n",
       " 'compute_freq_diss',\n",
       " 'create_default_params',\n",
       " 'info_solver',\n",
       " 'tendencies_nonlin']"
      ]
     },
     "execution_count": 38,
     "metadata": {},
     "output_type": "execute_result"
    }
   ],
   "source": [
    "[name for name in dir(Simul) if not name.startswith('__')]"
   ]
  },
  {
   "cell_type": "raw",
   "metadata": {},
   "source": [
    "The first attribute :class:`InfoSolver` is a class deriving from :class:`ParamContainer`. This class is usually defined in the `solver` module. It is used during the instantiation of the Simul object to produce a :class:`ParamContainer` containing a description of the solver, in practice the names and the modules of the classes used for the different tasks that need to be performed during the simulation.\n",
    "\n",
    "There are also four other functions. :func:`compute_freq_diss` and :func:`tendencies_nonlin` are used during the simulation and describe the equations that are solved.\n",
    "\n",
    ":func:`create_default_params` and :func:`_complete_params_with_default` are used to produce the `ParamContainer` containing the default parameters for a simulation:"
   ]
  },
  {
   "cell_type": "code",
   "execution_count": 39,
   "metadata": {
    "collapsed": false
   },
   "outputs": [],
   "source": [
    "params = Simul.create_default_params()"
   ]
  },
  {
   "cell_type": "raw",
   "metadata": {},
   "source": [
    "During the creation of `params`, the class :class:`InfoSolver` has been used to create a :class:`ParamContainer` named `info_solver`:"
   ]
  },
  {
   "cell_type": "code",
   "execution_count": 40,
   "metadata": {
    "collapsed": false
   },
   "outputs": [
    {
     "data": {
      "text/plain": [
       "<fluidsim.solvers.ns2d.solver.InfoSolverNS2D object at 0x7fc36a79a7d0>\n",
       "\n",
       "<solver class_name=\"Simul\" module_name=\"fluidsim.solvers.ns2d.solver\"\n",
       "        short_name=\"NS2D\">\n",
       "  <classes>\n",
       "    <Operators class_name=\"OperatorsPseudoSpectral2D\"\n",
       "               module_name=\"fluidsim.operators.operators\"/>  \n",
       "\n",
       "    <InitFields class_name=\"InitFieldsNS2D\"\n",
       "                module_name=\"fluidsim.solvers.ns2d.init_fields\">\n",
       "      <classes>\n",
       "        <from_file class_name=\"InitFieldsFromFile\"\n",
       "                   module_name=\"fluidsim.base.init_fields\"/>  \n",
       "\n",
       "        <noise class_name=\"InitFieldsNoise\"\n",
       "               module_name=\"fluidsim.solvers.ns2d.init_fields\"/>  \n",
       "\n",
       "        <constant class_name=\"InitFieldsConstant\"\n",
       "                  module_name=\"fluidsim.base.init_fields\"/>  \n",
       "\n",
       "        <jet class_name=\"InitFieldsJet\"\n",
       "             module_name=\"fluidsim.solvers.ns2d.init_fields\"/>  \n",
       "\n",
       "        <manual class_name=\"InitFieldsManual\"\n",
       "                module_name=\"fluidsim.base.init_fields\"/>  \n",
       "\n",
       "        <dipole class_name=\"InitFieldsDipole\"\n",
       "                module_name=\"fluidsim.solvers.ns2d.init_fields\"/>  \n",
       "\n",
       "        <from_simul class_name=\"InitFieldsFromSimul\"\n",
       "                    module_name=\"fluidsim.base.init_fields\"/>  \n",
       "\n",
       "      </classes>\n",
       "\n",
       "    </InitFields>\n",
       "\n",
       "    <TimeStepping class_name=\"TimeSteppingPseudoSpectral\"\n",
       "                  module_name=\"fluidsim.base.time_stepping.pseudo_spect_cy\"/>  \n",
       "\n",
       "    <State keys_linear_eigenmodes=\"['rot_fft']\" keys_state_fft=\"['rot_fft']\"\n",
       "           class_name=\"StateNS2D\" keys_phys_needed=\"['rot']\"\n",
       "           keys_state_phys=\"['ux', 'uy', 'rot']\"\n",
       "           module_name=\"fluidsim.solvers.ns2d.state\" keys_computable=\"[]\"/>  \n",
       "\n",
       "    <Output class_name=\"Output\" module_name=\"fluidsim.solvers.ns2d.output\">\n",
       "      <classes>\n",
       "        <PrintStdOut class_name=\"PrintStdOutNS2D\"\n",
       "                     module_name=\"fluidsim.solvers.ns2d.output.print_stdout\"/>  \n",
       "\n",
       "        <increments class_name=\"Increments\"\n",
       "                    module_name=\"fluidsim.base.output.increments\"/>  \n",
       "\n",
       "        <PhysFields class_name=\"PhysFieldsBase\"\n",
       "                    module_name=\"fluidsim.base.output.phys_fields\"/>  \n",
       "\n",
       "        <Spectra class_name=\"SpectraNS2D\"\n",
       "                 module_name=\"fluidsim.solvers.ns2d.output.spectra\"/>  \n",
       "\n",
       "        <spatial_means class_name=\"SpatialMeansNS2D\"\n",
       "                       module_name=\"fluidsim.solvers.ns2d.output.spatial_means\"/>  \n",
       "\n",
       "        <spect_energy_budg class_name=\"SpectralEnergyBudgetNS2D\"\n",
       "                           module_name=\"fluidsim.solvers.ns2d.output.spect_energy_budget\"/>  \n",
       "\n",
       "      </classes>\n",
       "\n",
       "    </Output>\n",
       "\n",
       "    <Forcing class_name=\"ForcingNS2D\"\n",
       "             module_name=\"fluidsim.solvers.ns2d.forcing\">\n",
       "      <classes>\n",
       "        <proportional class_name=\"Proportional\"\n",
       "                      module_name=\"fluidsim.base.forcing.specific\"/>  \n",
       "\n",
       "        <random class_name=\"TimeCorrelatedRandomPseudoSpectral\"\n",
       "                module_name=\"fluidsim.base.forcing.specific\"/>  \n",
       "\n",
       "      </classes>\n",
       "\n",
       "    </Forcing>\n",
       "\n",
       "  </classes>\n",
       "\n",
       "</solver>"
      ]
     },
     "execution_count": 40,
     "metadata": {},
     "output_type": "execute_result"
    }
   ],
   "source": [
    "Simul.info_solver"
   ]
  },
  {
   "cell_type": "raw",
   "metadata": {},
   "source": [
    "We see that this solver uses many classes and that they are organized in tasks (\"Operator\", \"InitFields\", \"TimeStepping\", \"State\", \"Output\", \"Forcing\"). Some first-level classes (for example \"Output\") have second-level classes (\"PrintStdOut\", \"Spectra\", \"PhysFields\", etc.). Such description of a solver is very general. It is also very conveniant to create a new solver from a similar existing solver.\n",
    "\n",
    "Every classes can have a class function or a static function :func:`_complete_params_with_default` that is called when the object containing the default parameters is created.\n",
    "\n",
    "The objects `params` and `Simul.info_solver` are then used to instantiate the simulation (here with the default parameters for the solver):"
   ]
  },
  {
   "cell_type": "code",
   "execution_count": 41,
   "metadata": {
    "collapsed": false
   },
   "outputs": [
    {
     "name": "stdout",
     "output_type": "stream",
     "text": [
      "*************************************\n",
      "Program FluidDyn\n",
      "\n",
      "solver NS2D, RK4 and sequential,\n",
      "type fft: FFTWCY\n",
      "nx =     48 ; ny =     48\n",
      "Lx = 8. ; Ly = 8.\n",
      "path_run =\n",
      "/home/users/augier3pi/Sim_data/NS2D_L=8.x8._48x48_2015-06-25_18-16-02\n",
      "init_fields.type: constant\n",
      "Initialization outputs:\n",
      "<class 'fluidsim.base.output.increments.Increments'> increments\n",
      "<class 'fluidsim.base.output.phys_fields.PhysFieldsBase'> phys_fields\n",
      "<class 'fluidsim.solvers.ns2d.output.spectra.SpectraNS2D'> spectra\n",
      "<class 'fluidsim.solvers.ns2d.output.spatial_means.SpatialMeansNS2D'> spatial_means\n",
      "<class 'fluidsim.solvers.ns2d.output.spect_energy_budget.SpectralEnergyBudgetNS2D'> spect_energy_budg\n",
      "\n",
      "Memory usage at the end of init. (equiv. seq.): 81.3125 Mo\n",
      "Size of state_fft (equiv. seq.): 0.0192 Mo\n"
     ]
    }
   ],
   "source": [
    "sim = Simul(params)"
   ]
  },
  {
   "cell_type": "markdown",
   "metadata": {},
   "source": [
    "Let's print the attributes of `sim` that are not class attributes:"
   ]
  },
  {
   "cell_type": "code",
   "execution_count": 42,
   "metadata": {
    "collapsed": false
   },
   "outputs": [
    {
     "data": {
      "text/plain": [
       "['info',\n",
       " 'init_fields',\n",
       " 'name_run',\n",
       " 'oper',\n",
       " 'output',\n",
       " 'params',\n",
       " 'state',\n",
       " 'time_stepping']"
      ]
     },
     "execution_count": 42,
     "metadata": {},
     "output_type": "execute_result"
    }
   ],
   "source": [
    "[name for name in dir(sim) if not name.startswith('_') and name not in dir(Simul)]"
   ]
  },
  {
   "cell_type": "markdown",
   "metadata": {},
   "source": [
    "Except `name_run` and `info`, the attributes are instances of the first-level classes defined in `Simul.info_solver`. These different objects have to interact together. We are going to present these different hierarchies of classes but first we come back to the two functions describing the equations in a pseudo-spectral solver."
   ]
  },
  {
   "cell_type": "markdown",
   "metadata": {},
   "source": [
    "## Description of the solved equations"
   ]
  },
  {
   "cell_type": "raw",
   "metadata": {},
   "source": [
    "The functions :func:`Simul.compute_freq_diss` and :func:`Simul.tendencies_nonlin` define the solved equations. Looking at the documentation of the solver module :mod:`fluidsim.solvers.ns2d.solver`, we see that :func:`Simul.tendencies_nonlin` is defined in this module and that :func:`Simul.compute_freq_diss` is inherited from the base class :class:`fluidsim.base.solvers.pseudo_spect.SimulBasePseudoSpectral`. By clicking on these links, you can look at the documentation and the sources of these functions. The documentation explains how this function define the solved equations. I think the sources are quite clear and can be understood by anyone knowing a little bit of Python for science. Most of the objects involved in these functions are functions or numpy.ndarray_.\n",
    "\n",
    ".. _numpy.ndarray: http://docs.scipy.org/doc/numpy/reference/generated/numpy.ndarray.html"
   ]
  },
  {
   "cell_type": "markdown",
   "metadata": {},
   "source": [
    "## State classes (`sim.state`)"
   ]
  },
  {
   "cell_type": "raw",
   "metadata": {},
   "source": [
    "`sim.state` is an instance of :class:`fluidsim.solvers.ns2d.state.StateNS2D`. It contains numpy.ndarray_, actually slightly modified numpy.ndarray_ named :class:`fluidsim.base.setofvariables.SetOfVariables`. This class is used to stack variables together in a single numpy.ndarray_.\n",
    "\n",
    "The state classes are also able to compute other variables from the state of the simulation. It is an interface hidding the actual way the data are stored."
   ]
  },
  {
   "cell_type": "markdown",
   "metadata": {},
   "source": [
    "## Operator classes (`sim.oper`)"
   ]
  },
  {
   "cell_type": "raw",
   "metadata": {},
   "source": [
    "`sim.oper` is an instance of :class:`fluidsim.operators.operators.OperatorsPseudoSpectral2D`.\n",
    "\n",
    "It contains the information on the grids (in physical and spectral space) and provides many optimized functions on arrays representing fields on these grids.\n",
    "\n",
    "It has to be fast! For the two dimensional Fourier pseudo-spectral solvers, it is written in Cython."
   ]
  },
  {
   "cell_type": "markdown",
   "metadata": {},
   "source": [
    "## TimeStepping classes (`sim.time_stepping`)"
   ]
  },
  {
   "cell_type": "raw",
   "metadata": {},
   "source": [
    "`sim.time_stepping` is an instance of :class:`fluidsim.base.time_stepping.pseudo_spect_cy.TimeSteppingPseudoSpectral`, which is based on :class:`fluidsim.base.time_stepping.pseudo_spect.TimeSteppingPseudoSpectral` and :class:`fluidsim.base.time_stepping.base.TimeSteppingBase`.\n",
    "\n",
    "This class contains the functions for the time advancement, i.e. Runge-Kutta functions and the actual loop than increments the time stepping index `sim.time_stepping.it`. The Runge-Kutta functions call the function :func:`sim.tendencies_nonlin` and modify the state in Fourier space `sim.state.state_fft`.\n",
    "\n",
    "The loop function also call the function :func:`sim.output.one_time_step`."
   ]
  },
  {
   "cell_type": "markdown",
   "metadata": {},
   "source": [
    "## Output classes (`sim.output`)"
   ]
  },
  {
   "cell_type": "raw",
   "metadata": {},
   "source": [
    "`sim.output` is an instance of :class:`fluidsim.solvers.ns2d.output.Output`.\n",
    "\n",
    "Saving and plotting of anything interesting..."
   ]
  },
  {
   "cell_type": "markdown",
   "metadata": {},
   "source": [
    "## Forcing classes (`sim.forcing`)"
   ]
  },
  {
   "cell_type": "raw",
   "metadata": {},
   "source": [
    "`sim.forcing` is an instance of :class:`fluidsim.solvers.ns2d.forcing.ForcingNS2D`.\n",
    "\n",
    "If `params.FORCING is True`, it is used in :func:`sim.tendencies_nonlin` to add the forcing term."
   ]
  }
 ],
 "metadata": {
  "kernelspec": {
   "display_name": "Python 2",
   "language": "python",
   "name": "python2"
  },
  "language_info": {
   "codemirror_mode": {
    "name": "ipython",
    "version": 2
   },
   "file_extension": ".py",
   "mimetype": "text/x-python",
   "name": "python",
   "nbconvert_exporter": "python",
   "pygments_lexer": "ipython2",
   "version": "2.7.6"
  }
 },
 "nbformat": 4,
 "nbformat_minor": 0
}
